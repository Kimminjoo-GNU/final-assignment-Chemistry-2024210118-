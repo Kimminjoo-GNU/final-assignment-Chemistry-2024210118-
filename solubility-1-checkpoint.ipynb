{
 "cells": [
  {
   "cell_type": "code",
   "execution_count": 1,
   "id": "6ff25df0-82f4-4cab-9e57-b8e6c8298bc2",
   "metadata": {},
   "outputs": [
    {
     "name": "stdout",
     "output_type": "stream",
     "text": [
      "Data loaded successfully!\n",
      "Data shape: (9982, 25)\n",
      "Columns: Index(['Name', 'InChI', 'InChIKey', 'SMILES', 'Solubility', 'SD', 'Ocurrences',\n",
      "       'Group', 'MolWt', 'MolLogP', 'MolMR', 'HeavyAtomCount', 'NumHAcceptors',\n",
      "       'NumHDonors', 'NumHeteroatoms', 'NumRotatableBonds',\n",
      "       'NumValenceElectrons', 'NumAromaticRings', 'NumSaturatedRings',\n",
      "       'NumAliphaticRings', 'RingCount', 'TPSA', 'LabuteASA', 'BalabanJ',\n",
      "       'BertzCT'],\n",
      "      dtype='object')\n"
     ]
    }
   ],
   "source": [
    "import openml\n",
    "import pandas as pd\n",
    "from sklearn.model_selection import train_test_split\n",
    "from sklearn.preprocessing import StandardScaler\n",
    "\n",
    "# 1. 데이터 로드\n",
    "dataset_id = 43546\n",
    "dataset = openml.datasets.get_dataset(dataset_id)\n",
    "result = dataset.get_data(dataset_format='dataframe')\n",
    "data = result[0] if isinstance(result, tuple) else result\n",
    "\n",
    "# 데이터 확인\n",
    "print(\"Data loaded successfully!\")\n",
    "print(f\"Data shape: {data.shape}\")\n",
    "print(f\"Columns: {data.columns}\")"
   ]
  },
  {
   "cell_type": "code",
   "execution_count": 2,
   "id": "7fbcb08f-4826-4bd2-b286-4eace6c8b085",
   "metadata": {},
   "outputs": [
    {
     "name": "stdout",
     "output_type": "stream",
     "text": [
      "X_train shape: (7985, 23)\n",
      "X_test shape: (1997, 23)\n",
      "y_train shape: (7985,)\n",
      "y_test shape: (1997,)\n"
     ]
    }
   ],
   "source": [
    "# 2. 타겟 변수와 독립 변수 분리\n",
    "target_column = 'Solubility'\n",
    "X = data.drop(columns=[target_column])  # 독립 변수\n",
    "y = data[target_column]  # 타겟 변수\n",
    "\n",
    "# 3. 고유값이 많은 텍스트 컬럼 제외\n",
    "columns_to_exclude = ['Name', 'InChI', 'InChIKey', 'SMILES']\n",
    "X = X.drop(columns=columns_to_exclude)\n",
    "\n",
    "# 4. 고유값 제한: 원-핫 인코딩이 필요한 컬럼만 인코딩\n",
    "categorical_columns = X.select_dtypes(include=['object']).columns\n",
    "for col in categorical_columns:\n",
    "    if X[col].nunique() > 100:  # 고유값이 100개를 초과하는 경우 제외\n",
    "        print(f\"Excluding column from encoding: {col}\")\n",
    "        X = X.drop(columns=[col])\n",
    "X = pd.get_dummies(X, drop_first=True)\n",
    "\n",
    "# 5. 수치형 데이터 스케일링\n",
    "scaler = StandardScaler()\n",
    "X_scaled = scaler.fit_transform(X)\n",
    "\n",
    "# 6. 데이터 분할\n",
    "X_train, X_test, y_train, y_test = train_test_split(X_scaled, y, test_size=0.2, random_state=42)\n",
    "\n",
    "# 결과 확인\n",
    "print(f\"X_train shape: {X_train.shape}\")\n",
    "print(f\"X_test shape: {X_test.shape}\")\n",
    "print(f\"y_train shape: {y_train.shape}\")\n",
    "print(f\"y_test shape: {y_test.shape}\")"
   ]
  },
  {
   "cell_type": "code",
   "execution_count": 3,
   "id": "e934f052-1e99-472b-af61-e0cbd4a6e96a",
   "metadata": {},
   "outputs": [
    {
     "name": "stdout",
     "output_type": "stream",
     "text": [
      "Mean Squared Error (MSE): 2.7068\n",
      "R2 Score: 0.5010\n"
     ]
    }
   ],
   "source": [
    "from sklearn.linear_model import LinearRegression\n",
    "from sklearn.metrics import mean_squared_error, r2_score\n",
    "\n",
    "# 1. 모델 생성 - 선형회귀\n",
    "model = LinearRegression()\n",
    "\n",
    "# 2. 모델 학습\n",
    "model.fit(X_train, y_train)\n",
    "\n",
    "# 3. 예측\n",
    "y_pred = model.predict(X_test)\n",
    "\n",
    "# 4. 성능 평가\n",
    "mse = mean_squared_error(y_test, y_pred)\n",
    "r2 = r2_score(y_test, y_pred)\n",
    "\n",
    "print(f\"Mean Squared Error (MSE): {mse:.4f}\")\n",
    "print(f\"R2 Score: {r2:.4f}\")"
   ]
  },
  {
   "cell_type": "code",
   "execution_count": 4,
   "id": "1da11da5-9ca6-46d1-8fe4-434684486a2e",
   "metadata": {},
   "outputs": [
    {
     "name": "stdout",
     "output_type": "stream",
     "text": [
      "Mean Squared Error (MSE): 1.1960\n",
      "R2 Score: 0.7795\n"
     ]
    }
   ],
   "source": [
    "from sklearn.ensemble import RandomForestRegressor\n",
    "from sklearn.metrics import mean_squared_error, r2_score\n",
    "\n",
    "# 1. 랜덤 포레스트 모델 생성\n",
    "model = RandomForestRegressor(random_state=42, n_estimators=100)\n",
    "\n",
    "# 2. 모델 학습\n",
    "model.fit(X_train, y_train)\n",
    "\n",
    "# 3. 예측\n",
    "y_pred = model.predict(X_test)\n",
    "\n",
    "# 4. 성능 평가\n",
    "mse = mean_squared_error(y_test, y_pred)\n",
    "r2 = r2_score(y_test, y_pred)\n",
    "\n",
    "print(f\"Mean Squared Error (MSE): {mse:.4f}\")\n",
    "print(f\"R2 Score: {r2:.4f}\")\n"
   ]
  },
  {
   "cell_type": "code",
   "execution_count": 5,
   "id": "d63ef9d6-592d-413d-93d8-780adaa8a8cb",
   "metadata": {},
   "outputs": [
    {
     "name": "stdout",
     "output_type": "stream",
     "text": [
      "XGBoost MSE: 1.2386\n",
      "XGBoost R2: 0.7717\n"
     ]
    }
   ],
   "source": [
    "from xgboost import XGBRegressor\n",
    "from sklearn.metrics import mean_squared_error, r2_score\n",
    "\n",
    "# XGBoost 모델 생성\n",
    "xgb_model = XGBRegressor(random_state=42, n_estimators=100)\n",
    "xgb_model.fit(X_train, y_train)\n",
    "\n",
    "# 예측 및 평가\n",
    "y_pred_xgb = xgb_model.predict(X_test)\n",
    "mse_xgb = mean_squared_error(y_test, y_pred_xgb)\n",
    "r2_xgb = r2_score(y_test, y_pred_xgb)\n",
    "\n",
    "print(f\"XGBoost MSE: {mse_xgb:.4f}\")\n",
    "print(f\"XGBoost R2: {r2_xgb:.4f}\")"
   ]
  },
  {
   "cell_type": "code",
   "execution_count": null,
   "id": "66750df4-b30d-4a3d-8e06-b1de414497ea",
   "metadata": {},
   "outputs": [],
   "source": []
  }
 ],
 "metadata": {
  "jupytext": {
   "formats": "ipynb,auto:light"
  },
  "kernelspec": {
   "display_name": "Python 3 (ipykernel)",
   "language": "python",
   "name": "python3"
  },
  "language_info": {
   "codemirror_mode": {
    "name": "ipython",
    "version": 3
   },
   "file_extension": ".py",
   "mimetype": "text/x-python",
   "name": "python",
   "nbconvert_exporter": "python",
   "pygments_lexer": "ipython3",
   "version": "3.13.1"
  }
 },
 "nbformat": 4,
 "nbformat_minor": 5
}
